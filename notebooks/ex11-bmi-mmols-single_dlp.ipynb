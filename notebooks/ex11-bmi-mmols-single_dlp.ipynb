{
 "cells": [
  {
   "cell_type": "markdown",
   "id": "429fb06c",
   "metadata": {
    "lines_to_next_cell": 2
   },
   "source": [
    "## One-Dimensional Steady Flow with Transport\n",
    "\n",
    "phreeqc ex11\n",
    "\n"
   ]
  },
  {
   "cell_type": "markdown",
   "id": "1671df89",
   "metadata": {},
   "source": [
    "### One-Dimensional Steady Flow with Transport Problem Setup"
   ]
  },
  {
   "cell_type": "markdown",
   "id": "9fa9c9fa",
   "metadata": {},
   "source": [
    "Imports"
   ]
  },
  {
   "cell_type": "code",
   "execution_count": 1,
   "id": "a3a5ed54",
   "metadata": {},
   "outputs": [],
   "source": [
    "import os\n",
    "import sys"
   ]
  },
  {
   "cell_type": "code",
   "execution_count": 2,
   "id": "266377c7",
   "metadata": {},
   "outputs": [
    {
     "ename": "AttributeError",
     "evalue": "`np.float_` was removed in the NumPy 2.0 release. Use `np.float64` instead.",
     "output_type": "error",
     "traceback": [
      "\u001b[1;31m---------------------------------------------------------------------------\u001b[0m",
      "\u001b[1;31mAttributeError\u001b[0m                            Traceback (most recent call last)",
      "Cell \u001b[1;32mIn[2], line 3\u001b[0m\n\u001b[0;32m      1\u001b[0m \u001b[38;5;28;01mimport\u001b[39;00m \u001b[38;5;21;01mnumpy\u001b[39;00m \u001b[38;5;28;01mas\u001b[39;00m \u001b[38;5;21;01mnp\u001b[39;00m\n\u001b[0;32m      2\u001b[0m \u001b[38;5;28;01mimport\u001b[39;00m \u001b[38;5;21;01mmatplotlib\u001b[39;00m\u001b[38;5;21;01m.\u001b[39;00m\u001b[38;5;21;01mpyplot\u001b[39;00m \u001b[38;5;28;01mas\u001b[39;00m \u001b[38;5;21;01mplt\u001b[39;00m\n\u001b[1;32m----> 3\u001b[0m \u001b[38;5;28;01mimport\u001b[39;00m \u001b[38;5;21;01mflopy\u001b[39;00m\n",
      "File \u001b[1;32m~\\micromamba\\envs\\bld-phreeqcrm\\Lib\\site-packages\\flopy\\__init__.py:26\u001b[0m\n\u001b[0;32m     23\u001b[0m __author__ \u001b[38;5;241m=\u001b[39m \u001b[38;5;124m\"\u001b[39m\u001b[38;5;124mFloPy Team\u001b[39m\u001b[38;5;124m\"\u001b[39m\n\u001b[0;32m     25\u001b[0m \u001b[38;5;28;01mfrom\u001b[39;00m \u001b[38;5;21;01m.\u001b[39;00m\u001b[38;5;21;01mversion\u001b[39;00m \u001b[38;5;28;01mimport\u001b[39;00m __version__  \u001b[38;5;66;03m# isort:skip\u001b[39;00m\n\u001b[1;32m---> 26\u001b[0m \u001b[38;5;28;01mfrom\u001b[39;00m \u001b[38;5;21;01m.\u001b[39;00m \u001b[38;5;28;01mimport\u001b[39;00m (\n\u001b[0;32m     27\u001b[0m     discretization,\n\u001b[0;32m     28\u001b[0m     export,\n\u001b[0;32m     29\u001b[0m     mf6,\n\u001b[0;32m     30\u001b[0m     mfusg,\n\u001b[0;32m     31\u001b[0m     modflow,\n\u001b[0;32m     32\u001b[0m     modflowlgr,\n\u001b[0;32m     33\u001b[0m     modpath,\n\u001b[0;32m     34\u001b[0m     mt3d,\n\u001b[0;32m     35\u001b[0m     pest,\n\u001b[0;32m     36\u001b[0m     plot,\n\u001b[0;32m     37\u001b[0m     seawat,\n\u001b[0;32m     38\u001b[0m     utils,\n\u001b[0;32m     39\u001b[0m )\n\u001b[0;32m     40\u001b[0m \u001b[38;5;28;01mfrom\u001b[39;00m \u001b[38;5;21;01m.\u001b[39;00m\u001b[38;5;21;01mmbase\u001b[39;00m \u001b[38;5;28;01mimport\u001b[39;00m run_model, which\n\u001b[0;32m     42\u001b[0m __all__ \u001b[38;5;241m=\u001b[39m [\n\u001b[0;32m     43\u001b[0m     \u001b[38;5;124m\"\u001b[39m\u001b[38;5;124m__author__\u001b[39m\u001b[38;5;124m\"\u001b[39m,\n\u001b[0;32m     44\u001b[0m     \u001b[38;5;124m\"\u001b[39m\u001b[38;5;124m__version__\u001b[39m\u001b[38;5;124m\"\u001b[39m,\n\u001b[1;32m   (...)\u001b[0m\n\u001b[0;32m     58\u001b[0m     \u001b[38;5;124m\"\u001b[39m\u001b[38;5;124mwhich\u001b[39m\u001b[38;5;124m\"\u001b[39m,\n\u001b[0;32m     59\u001b[0m ]\n",
      "File \u001b[1;32m~\\micromamba\\envs\\bld-phreeqcrm\\Lib\\site-packages\\flopy\\discretization\\__init__.py:1\u001b[0m\n\u001b[1;32m----> 1\u001b[0m \u001b[38;5;28;01mfrom\u001b[39;00m \u001b[38;5;21;01m.\u001b[39;00m\u001b[38;5;21;01mstructuredgrid\u001b[39;00m \u001b[38;5;28;01mimport\u001b[39;00m StructuredGrid\n\u001b[0;32m      2\u001b[0m \u001b[38;5;28;01mfrom\u001b[39;00m \u001b[38;5;21;01m.\u001b[39;00m\u001b[38;5;21;01munstructuredgrid\u001b[39;00m \u001b[38;5;28;01mimport\u001b[39;00m UnstructuredGrid\n\u001b[0;32m      3\u001b[0m \u001b[38;5;28;01mfrom\u001b[39;00m \u001b[38;5;21;01m.\u001b[39;00m\u001b[38;5;21;01mvertexgrid\u001b[39;00m \u001b[38;5;28;01mimport\u001b[39;00m VertexGrid\n",
      "File \u001b[1;32m~\\micromamba\\envs\\bld-phreeqcrm\\Lib\\site-packages\\flopy\\discretization\\structuredgrid.py:7\u001b[0m\n\u001b[0;32m      3\u001b[0m \u001b[38;5;28;01mfrom\u001b[39;00m \u001b[38;5;21;01mtyping\u001b[39;00m \u001b[38;5;28;01mimport\u001b[39;00m Union\n\u001b[0;32m      5\u001b[0m \u001b[38;5;28;01mimport\u001b[39;00m \u001b[38;5;21;01mnumpy\u001b[39;00m \u001b[38;5;28;01mas\u001b[39;00m \u001b[38;5;21;01mnp\u001b[39;00m\n\u001b[1;32m----> 7\u001b[0m \u001b[38;5;28;01mfrom\u001b[39;00m \u001b[38;5;21;01m.\u001b[39;00m\u001b[38;5;21;01mgrid\u001b[39;00m \u001b[38;5;28;01mimport\u001b[39;00m CachedData, Grid\n\u001b[0;32m     10\u001b[0m \u001b[38;5;28;01mdef\u001b[39;00m \u001b[38;5;21marray_at_verts_basic2d\u001b[39m(a):\n\u001b[0;32m     11\u001b[0m \u001b[38;5;250m    \u001b[39m\u001b[38;5;124;03m\"\"\"\u001b[39;00m\n\u001b[0;32m     12\u001b[0m \u001b[38;5;124;03m    Computes values at cell vertices on 2d array using neighbor averaging.\u001b[39;00m\n\u001b[0;32m     13\u001b[0m \n\u001b[1;32m   (...)\u001b[0m\n\u001b[0;32m     22\u001b[0m \u001b[38;5;124;03m        Array values at cell vertices, shape (a.shape[0]+1, a.shape[1]+1).\u001b[39;00m\n\u001b[0;32m     23\u001b[0m \u001b[38;5;124;03m    \"\"\"\u001b[39;00m\n",
      "File \u001b[1;32m~\\micromamba\\envs\\bld-phreeqcrm\\Lib\\site-packages\\flopy\\discretization\\grid.py:16\u001b[0m\n\u001b[0;32m     13\u001b[0m \u001b[38;5;28;01mexcept\u001b[39;00m \u001b[38;5;167;01mImportError\u001b[39;00m:\n\u001b[0;32m     14\u001b[0m     HAS_PYPROJ \u001b[38;5;241m=\u001b[39m \u001b[38;5;28;01mFalse\u001b[39;00m\n\u001b[1;32m---> 16\u001b[0m \u001b[38;5;28;01mfrom\u001b[39;00m \u001b[38;5;21;01m.\u001b[39;00m\u001b[38;5;21;01m.\u001b[39;00m\u001b[38;5;21;01mutils\u001b[39;00m \u001b[38;5;28;01mimport\u001b[39;00m geometry\n\u001b[0;32m     17\u001b[0m \u001b[38;5;28;01mfrom\u001b[39;00m \u001b[38;5;21;01m.\u001b[39;00m\u001b[38;5;21;01m.\u001b[39;00m\u001b[38;5;21;01mutils\u001b[39;00m\u001b[38;5;21;01m.\u001b[39;00m\u001b[38;5;21;01mcrs\u001b[39;00m \u001b[38;5;28;01mimport\u001b[39;00m get_crs\n\u001b[0;32m     18\u001b[0m \u001b[38;5;28;01mfrom\u001b[39;00m \u001b[38;5;21;01m.\u001b[39;00m\u001b[38;5;21;01m.\u001b[39;00m\u001b[38;5;21;01mutils\u001b[39;00m\u001b[38;5;21;01m.\u001b[39;00m\u001b[38;5;21;01mgridutil\u001b[39;00m \u001b[38;5;28;01mimport\u001b[39;00m get_lni\n",
      "File \u001b[1;32m~\\micromamba\\envs\\bld-phreeqcrm\\Lib\\site-packages\\flopy\\utils\\__init__.py:51\u001b[0m\n\u001b[0;32m     49\u001b[0m \u001b[38;5;28;01mfrom\u001b[39;00m \u001b[38;5;21;01m.\u001b[39;00m\u001b[38;5;21;01moptionblock\u001b[39;00m \u001b[38;5;28;01mimport\u001b[39;00m OptionBlock\n\u001b[0;32m     50\u001b[0m \u001b[38;5;28;01mfrom\u001b[39;00m \u001b[38;5;21;01m.\u001b[39;00m\u001b[38;5;21;01mpostprocessing\u001b[39;00m \u001b[38;5;28;01mimport\u001b[39;00m get_specific_discharge, get_transmissivities\n\u001b[1;32m---> 51\u001b[0m \u001b[38;5;28;01mfrom\u001b[39;00m \u001b[38;5;21;01m.\u001b[39;00m\u001b[38;5;21;01mrasters\u001b[39;00m \u001b[38;5;28;01mimport\u001b[39;00m Raster\n\u001b[0;32m     52\u001b[0m \u001b[38;5;28;01mfrom\u001b[39;00m \u001b[38;5;21;01m.\u001b[39;00m\u001b[38;5;21;01mrecarray_utils\u001b[39;00m \u001b[38;5;28;01mimport\u001b[39;00m create_empty_recarray, ra_slice, recarray\n\u001b[0;32m     53\u001b[0m \u001b[38;5;28;01mfrom\u001b[39;00m \u001b[38;5;21;01m.\u001b[39;00m\u001b[38;5;21;01mreference\u001b[39;00m \u001b[38;5;28;01mimport\u001b[39;00m TemporalReference\n",
      "File \u001b[1;32m~\\micromamba\\envs\\bld-phreeqcrm\\Lib\\site-packages\\flopy\\utils\\rasters.py:13\u001b[0m\n\u001b[0;32m      8\u001b[0m \u001b[38;5;28;01mfrom\u001b[39;00m \u001b[38;5;21;01m.\u001b[39;00m\u001b[38;5;21;01mutl_import\u001b[39;00m \u001b[38;5;28;01mimport\u001b[39;00m import_optional_dependency\n\u001b[0;32m     10\u001b[0m warnings\u001b[38;5;241m.\u001b[39msimplefilter(\u001b[38;5;124m\"\u001b[39m\u001b[38;5;124malways\u001b[39m\u001b[38;5;124m\"\u001b[39m, \u001b[38;5;167;01mDeprecationWarning\u001b[39;00m)\n\u001b[1;32m---> 13\u001b[0m \u001b[38;5;28;43;01mclass\u001b[39;49;00m\u001b[43m \u001b[49m\u001b[38;5;21;43;01mRaster\u001b[39;49;00m\u001b[43m:\u001b[49m\n\u001b[0;32m     14\u001b[0m \u001b[38;5;250;43m    \u001b[39;49m\u001b[38;5;124;43;03m\"\"\"\u001b[39;49;00m\n\u001b[0;32m     15\u001b[0m \u001b[38;5;124;43;03m    The Raster object is used for cropping, sampling raster values,\u001b[39;49;00m\n\u001b[0;32m     16\u001b[0m \u001b[38;5;124;43;03m    and re-sampling raster values to grids, and provides methods to\u001b[39;49;00m\n\u001b[1;32m   (...)\u001b[0m\n\u001b[0;32m     45\u001b[0m \n\u001b[0;32m     46\u001b[0m \u001b[38;5;124;43;03m    \"\"\"\u001b[39;49;00m\n\u001b[0;32m     48\u001b[0m \u001b[43m    \u001b[49m\u001b[43mFLOAT32\u001b[49m\u001b[43m \u001b[49m\u001b[38;5;241;43m=\u001b[39;49m\u001b[43m \u001b[49m\u001b[43m(\u001b[49m\u001b[38;5;28;43mfloat\u001b[39;49m\u001b[43m,\u001b[49m\u001b[43m \u001b[49m\u001b[43mnp\u001b[49m\u001b[38;5;241;43m.\u001b[39;49m\u001b[43mfloat32\u001b[49m\u001b[43m,\u001b[49m\u001b[43m \u001b[49m\u001b[43mnp\u001b[49m\u001b[38;5;241;43m.\u001b[39;49m\u001b[43mfloat_\u001b[49m\u001b[43m)\u001b[49m\n",
      "File \u001b[1;32m~\\micromamba\\envs\\bld-phreeqcrm\\Lib\\site-packages\\flopy\\utils\\rasters.py:48\u001b[0m, in \u001b[0;36mRaster\u001b[1;34m()\u001b[0m\n\u001b[0;32m     13\u001b[0m \u001b[38;5;28;01mclass\u001b[39;00m \u001b[38;5;21;01mRaster\u001b[39;00m:\n\u001b[0;32m     14\u001b[0m \u001b[38;5;250m    \u001b[39m\u001b[38;5;124;03m\"\"\"\u001b[39;00m\n\u001b[0;32m     15\u001b[0m \u001b[38;5;124;03m    The Raster object is used for cropping, sampling raster values,\u001b[39;00m\n\u001b[0;32m     16\u001b[0m \u001b[38;5;124;03m    and re-sampling raster values to grids, and provides methods to\u001b[39;00m\n\u001b[1;32m   (...)\u001b[0m\n\u001b[0;32m     45\u001b[0m \n\u001b[0;32m     46\u001b[0m \u001b[38;5;124;03m    \"\"\"\u001b[39;00m\n\u001b[1;32m---> 48\u001b[0m     FLOAT32 \u001b[38;5;241m=\u001b[39m (\u001b[38;5;28mfloat\u001b[39m, np\u001b[38;5;241m.\u001b[39mfloat32, \u001b[43mnp\u001b[49m\u001b[38;5;241;43m.\u001b[39;49m\u001b[43mfloat_\u001b[49m)\n\u001b[0;32m     49\u001b[0m     FLOAT64 \u001b[38;5;241m=\u001b[39m (np\u001b[38;5;241m.\u001b[39mfloat64,)\n\u001b[0;32m     50\u001b[0m     INT8 \u001b[38;5;241m=\u001b[39m (np\u001b[38;5;241m.\u001b[39mint8, np\u001b[38;5;241m.\u001b[39muint8)\n",
      "File \u001b[1;32m~\\micromamba\\envs\\bld-phreeqcrm\\Lib\\site-packages\\numpy\\__init__.py:397\u001b[0m, in \u001b[0;36m__getattr__\u001b[1;34m(attr)\u001b[0m\n\u001b[0;32m    394\u001b[0m     \u001b[38;5;28;01mraise\u001b[39;00m \u001b[38;5;167;01mAttributeError\u001b[39;00m(__former_attrs__[attr])\n\u001b[0;32m    396\u001b[0m \u001b[38;5;28;01mif\u001b[39;00m attr \u001b[38;5;129;01min\u001b[39;00m __expired_attributes__:\n\u001b[1;32m--> 397\u001b[0m     \u001b[38;5;28;01mraise\u001b[39;00m \u001b[38;5;167;01mAttributeError\u001b[39;00m(\n\u001b[0;32m    398\u001b[0m         \u001b[38;5;124mf\u001b[39m\u001b[38;5;124m\"\u001b[39m\u001b[38;5;124m`np.\u001b[39m\u001b[38;5;132;01m{\u001b[39;00mattr\u001b[38;5;132;01m}\u001b[39;00m\u001b[38;5;124m` was removed in the NumPy 2.0 release. \u001b[39m\u001b[38;5;124m\"\u001b[39m\n\u001b[0;32m    399\u001b[0m         \u001b[38;5;124mf\u001b[39m\u001b[38;5;124m\"\u001b[39m\u001b[38;5;132;01m{\u001b[39;00m__expired_attributes__[attr]\u001b[38;5;132;01m}\u001b[39;00m\u001b[38;5;124m\"\u001b[39m\n\u001b[0;32m    400\u001b[0m     )\n\u001b[0;32m    402\u001b[0m \u001b[38;5;28;01mif\u001b[39;00m attr \u001b[38;5;241m==\u001b[39m \u001b[38;5;124m\"\u001b[39m\u001b[38;5;124mchararray\u001b[39m\u001b[38;5;124m\"\u001b[39m:\n\u001b[0;32m    403\u001b[0m     warnings\u001b[38;5;241m.\u001b[39mwarn(\n\u001b[0;32m    404\u001b[0m         \u001b[38;5;124m\"\u001b[39m\u001b[38;5;124m`np.chararray` is deprecated and will be removed from \u001b[39m\u001b[38;5;124m\"\u001b[39m\n\u001b[0;32m    405\u001b[0m         \u001b[38;5;124m\"\u001b[39m\u001b[38;5;124mthe main namespace in the future. Use an array with a string \u001b[39m\u001b[38;5;124m\"\u001b[39m\n\u001b[0;32m    406\u001b[0m         \u001b[38;5;124m\"\u001b[39m\u001b[38;5;124mor bytes dtype instead.\u001b[39m\u001b[38;5;124m\"\u001b[39m, \u001b[38;5;167;01mDeprecationWarning\u001b[39;00m, stacklevel\u001b[38;5;241m=\u001b[39m\u001b[38;5;241m2\u001b[39m)\n",
      "\u001b[1;31mAttributeError\u001b[0m: `np.float_` was removed in the NumPy 2.0 release. Use `np.float64` instead."
     ]
    }
   ],
   "source": [
    "import numpy as np\n",
    "import matplotlib.pyplot as plt\n",
    "import flopy"
   ]
  },
  {
   "cell_type": "code",
   "execution_count": null,
   "id": "3881f3af",
   "metadata": {},
   "outputs": [],
   "source": [
    "import modflowapi\n",
    "from modflowapi import Callbacks\n",
    "from pathlib import Path"
   ]
  },
  {
   "cell_type": "code",
   "execution_count": null,
   "id": "915df37a",
   "metadata": {},
   "outputs": [],
   "source": [
    "import phreeqcrm\n",
    "##from phreeqcrm import BMIPhreeqcRM\n",
    "##import phreeqcrm as rm\n",
    "##import phreeqcrm as phrqcrm\n",
    "import phreeqpy.iphreeqc.phreeqc_dll as phreeqc_mod\n",
    "import shutil"
   ]
  },
  {
   "cell_type": "markdown",
   "id": "00dee7ca",
   "metadata": {},
   "source": [
    "Append to system path to include the common subdirectory"
   ]
  },
  {
   "cell_type": "code",
   "execution_count": null,
   "id": "91c4b922",
   "metadata": {},
   "outputs": [],
   "source": [
    "sys.path.append(os.path.join(\"..\", \"common\"))"
   ]
  },
  {
   "cell_type": "markdown",
   "id": "0dcd267c",
   "metadata": {},
   "source": [
    "Import common functionality"
   ]
  },
  {
   "cell_type": "code",
   "execution_count": null,
   "id": "d92da603",
   "metadata": {},
   "outputs": [],
   "source": [
    "import analytical\n",
    "import config\n",
    "from figspecs import USGSFigure"
   ]
  },
  {
   "cell_type": "markdown",
   "id": "617d3608",
   "metadata": {},
   "source": [
    "Set figure properties specific to this problem"
   ]
  },
  {
   "cell_type": "code",
   "execution_count": null,
   "id": "9d31c657",
   "metadata": {},
   "outputs": [],
   "source": [
    "figure_size = (5, 3)\n",
    "#figure_size = None"
   ]
  },
  {
   "cell_type": "markdown",
   "id": "a33ceb07",
   "metadata": {},
   "source": [
    "Base simulation and model name and workspace"
   ]
  },
  {
   "cell_type": "code",
   "execution_count": null,
   "id": "91aba9df",
   "metadata": {},
   "outputs": [],
   "source": [
    "ws = config.base_ws\n",
    "example_name = \"moc\""
   ]
  },
  {
   "cell_type": "code",
   "execution_count": null,
   "id": "147775d3",
   "metadata": {},
   "outputs": [],
   "source": [
    "from contextlib import contextmanager\n",
    "@contextmanager\n",
    "def change_directory(new_dir):\n",
    "    original_dir = os.getcwd()  # Get the current working directory\n",
    "\n",
    "    # Convert relative path to an absolute path\n",
    "    new_dir = os.path.abspath(new_dir)\n",
    "    \n",
    "    # Check if the directory exists; if not, create it\n",
    "    if not os.path.exists(new_dir):\n",
    "        os.makedirs(new_dir)\n",
    "\n",
    "    try:\n",
    "        os.chdir(new_dir)  # Change to the specified directory\n",
    "        yield\n",
    "    finally:\n",
    "        os.chdir(original_dir)  # Change back to the original directory when done"
   ]
  },
  {
   "cell_type": "markdown",
   "id": "20ce23c6",
   "metadata": {},
   "source": [
    "Scenario parameters - make sure there is at least one blank line before next item"
   ]
  },
  {
   "cell_type": "code",
   "execution_count": null,
   "id": "04fc42f4",
   "metadata": {},
   "outputs": [],
   "source": [
    "parameters = {\n",
    "    \"ex11-bmi-mmols-single\": {\n",
    "        \"longitudinal_dispersivity\": 0.002,\n",
    "    },\n",
    "}"
   ]
  },
  {
   "cell_type": "markdown",
   "id": "598e56c7",
   "metadata": {},
   "source": [
    "Scenario parameter units - make sure there is at least one blank line before next item\n",
    "add parameter_units to add units to the scenario parameter table"
   ]
  },
  {
   "cell_type": "code",
   "execution_count": null,
   "id": "22cc9951",
   "metadata": {},
   "outputs": [],
   "source": [
    "parameter_units = {\n",
    "    \"longitudinal_dispersivity\": \"$m$\",\n",
    "}"
   ]
  },
  {
   "cell_type": "markdown",
   "id": "72c430c8",
   "metadata": {},
   "source": [
    "Model units"
   ]
  },
  {
   "cell_type": "code",
   "execution_count": null,
   "id": "1c566f9b",
   "metadata": {},
   "outputs": [],
   "source": [
    "length_units = \"METERS\"    # m\n",
    "time_units = \"seconds\"     # s"
   ]
  },
  {
   "cell_type": "markdown",
   "id": "beb8d83d",
   "metadata": {},
   "source": [
    "Table of model parameters"
   ]
  },
  {
   "cell_type": "code",
   "execution_count": null,
   "id": "06051f9e",
   "metadata": {},
   "outputs": [],
   "source": [
    "nper = 1                      # Number of periods\n",
    "nlay = 1                      # Number of layers\n",
    "nrow = 1                      # Number of rows\n",
    "ncol = 40                     # Number of columns\n",
    "system_length = .08           # Length of system ($m$)\n",
    "delr = 0.002                  # Column width ($m$)\n",
    "delc = 1.0                    # Row width ($m$)\n",
    "top = 1.0                     # Top of the model ($m$)\n",
    "botm = 0                      # Layer bottom elevation ($m$)\n",
    "hydraulic_conductivity = 1.0  # Hydraulic conductivity ($m s^{-1}$)\n",
    "porosity = 0.2                # Porosity of mobile domain (unitless)\n",
    "specific_discharge = 1./720.*porosity  # Specific discharge ($m s^{-1}$)\n",
    "total_time = 72000.0          # Simulation time ($s$)\n",
    "concentration_factor = 1.     # Scale factor ($millmoles/mole$)\n"
   ]
  },
  {
   "cell_type": "markdown",
   "id": "d1d52b73",
   "metadata": {},
   "source": [
    "Create yaml for phreeqcrm initialize()"
   ]
  },
  {
   "cell_type": "code",
   "execution_count": null,
   "id": "1c885c40",
   "metadata": {},
   "outputs": [],
   "source": [
    "def setup_phreeqcrm(sim_folder):\n",
    "    \n",
    "    ##os.chdir(sys.path[0])\n",
    "    notebook_directory = sys.path[0]    \n",
    "    assert(os.getcwd() == notebook_directory)\n",
    "\n",
    "    assert(sim_folder == \"ex11-bmi-mmols-single\")\n",
    "    \n",
    "    # get abspath before change_directory\n",
    "    sim_ws = os.path.abspath(os.path.join(ws, sim_folder, \"phreeqcrm\"))\n",
    "\n",
    "    with change_directory(sim_ws):\n",
    "        \n",
    "        # copy phreeqc.dat to sim_ws\n",
    "        source_file = os.path.join(notebook_directory, 'phreeqc.dat')\n",
    "        shutil.copy(source_file, sim_ws)\n",
    "\n",
    "        # copy advect.pqi to sim_ws\n",
    "        source_file = os.path.join(notebook_directory, 'advect.pqi')\n",
    "        shutil.copy(source_file, sim_ws)\n",
    "    \n",
    "        # Create YAMLPhreeqcRM document\n",
    "        yrm = phreeqcrm.YAMLPhreeqcRM()\n",
    "\n",
    "        # Number of cells\n",
    "        nxyz = nlay*nrow*ncol\n",
    "\n",
    "        # Set GridCellCount\n",
    "        yrm.YAMLSetGridCellCount(nxyz)\n",
    "\n",
    "        # Set some properties\n",
    "        yrm.YAMLSetErrorHandlerMode(1)\n",
    "        yrm.YAMLSetComponentH2O(False)\n",
    "        yrm.YAMLSetRebalanceFraction(0.5)\n",
    "        yrm.YAMLSetRebalanceByCell(True)\n",
    "        yrm.YAMLUseSolutionDensityVolume(False)\n",
    "        yrm.YAMLSetPartitionUZSolids(False)\n",
    "\n",
    "        # Set concentration units\n",
    "        yrm.YAMLSetUnitsSolution(2)           # 1, mg/L; 2, mol/L; 3, kg/kgs\n",
    "        yrm.YAMLSetUnitsPPassemblage(1)       # 0, mol/L cell; 1, mol/L water; 2 mol/L rock\n",
    "        yrm.YAMLSetUnitsExchange(1)           # 0, mol/L cell; 1, mol/L water; 2 mol/L rock\n",
    "        yrm.YAMLSetUnitsSurface(1)            # 0, mol/L cell; 1, mol/L water; 2 mol/L rock\n",
    "        yrm.YAMLSetUnitsGasPhase(1)           # 0, mol/L cell; 1, mol/L water; 2 mol/L rock\n",
    "        yrm.YAMLSetUnitsSSassemblage(1)       # 0, mol/L cell; 1, mol/L water; 2 mol/L rock\n",
    "        yrm.YAMLSetUnitsKinetics(1)           # 0, mol/L cell; 1, mol/L water; 2 mol/L rock\n",
    "\n",
    "        # Set conversion from seconds to user units (days) Only affects one print statement\n",
    "        time_conversion = 1.0 / 86400.0\n",
    "        yrm.YAMLSetTimeConversion(time_conversion)\n",
    "\n",
    "        # Set representative volume\n",
    "        rv = [1] * nxyz\n",
    "        yrm.YAMLSetRepresentativeVolume(rv)\n",
    "\n",
    "        # Set initial density\n",
    "        density = [1.0] * nxyz\n",
    "        yrm.YAMLSetDensityUser(density)\n",
    "\n",
    "        # Set initial porosity\n",
    "        por = [0.2] * nxyz\n",
    "        yrm.YAMLSetPorosity(por)\n",
    "\n",
    "        # Set initial saturation\n",
    "        sat = [1] * nxyz\n",
    "        yrm.YAMLSetSaturationUser(sat)\n",
    "\n",
    "        # Load database\n",
    "        yrm.YAMLLoadDatabase(\"phreeqc.dat\")\n",
    "\n",
    "        # Run file to define solutions and reactants for initial conditions, selected output\n",
    "        workers = True             # Worker instances do the reaction calculations for transport\n",
    "        initial_phreeqc = True     # InitialPhreeqc instance accumulates initial and boundary conditions\n",
    "        utility = True             # Utility instance is available for processing\n",
    "        yrm.YAMLRunFile(workers, initial_phreeqc, utility, \"advect.pqi\")\n",
    "\n",
    "        # Clear contents of workers and utility\n",
    "        initial_phreeqc = False\n",
    "        input = \"DELETE; -all\"\n",
    "        yrm.YAMLRunString(workers, initial_phreeqc, utility, input)\n",
    "        yrm.YAMLAddOutputVars(\"AddOutputVars\", \"true\")\n",
    "\n",
    "        # Determine number of components to transport\n",
    "        yrm.YAMLFindComponents()\n",
    "\n",
    "        # initial solutions\n",
    "        initial_solutions = [1] * nxyz\n",
    "        yrm.YAMLInitialSolutions2Module(initial_solutions)\n",
    "\n",
    "        # initial exchanges\n",
    "        initial_exchanges = [1] * nxyz\n",
    "        yrm.YAMLInitialExchanges2Module(initial_exchanges)\n",
    "\n",
    "        # Write YAML file\n",
    "        yrm.WriteYAMLDoc(\"ex11-advect.yaml\")\n",
    "        \n",
    "    return \"ex11-advect.yaml\""
   ]
  },
  {
   "cell_type": "code",
   "execution_count": null,
   "id": "a81ce853",
   "metadata": {},
   "outputs": [],
   "source": [
    "def build_phreeqcrm(sim_folder):\n",
    "    yaml = setup_phreeqcrm(sim_folder)\n",
    "    \n",
    "    rm = None\n",
    "    try:\n",
    "        # get abspath before change_directory\n",
    "        sim_ws = os.path.abspath(os.path.join(ws, sim_folder, \"phreeqcrm\"))\n",
    "        \n",
    "        rm = phreeqcrm.BMIPhreeqcRM()\n",
    "        with change_directory(sim_ws):\n",
    "            rm.initialize(yaml)\n",
    "            \n",
    "        rm.solutes = rm.get_value_ptr(\"Components\")\n",
    "        ncomps     = rm.get_value_ptr(\"ComponentCount\")[0]\n",
    "\n",
    "        nxyz = nlay*nrow*ncol\n",
    "        assert nxyz == rm.get_value_ptr(\"GridCellCount\")[0]        \n",
    "        \n",
    "        # Get initial concentrations\n",
    "        rm.initial_solution = rm.get_value_ptr(\"Concentrations\")[::nxyz]\n",
    "        assert len(rm.initial_solution) == ncomps\n",
    "\n",
    "        # Set boundary condition\n",
    "        bc1 = [0]           # solution 0 from Initial IPhreeqc instance\n",
    "        rm.influent_concentration = rm.InitialPhreeqc2Concentrations(bc1)\n",
    "\n",
    "        # Convert to millimoles\n",
    "        rm.initial_solution       = rm.initial_solution * concentration_factor\n",
    "        rm.influent_concentration = rm.influent_concentration * concentration_factor\n",
    "            \n",
    "    except:\n",
    "        raise RuntimeError(\"build_phreeqcrm failed\")\n",
    "    return rm"
   ]
  },
  {
   "cell_type": "markdown",
   "id": "defe2f49",
   "metadata": {
    "lines_to_next_cell": 2
   },
   "source": [
    "### Functions to build, write, run, and plot models\n",
    "\n",
    "MODFLOW 6 flopy GWF simulation object (sim) is returned\n"
   ]
  },
  {
   "cell_type": "code",
   "execution_count": null,
   "id": "38f7b06c",
   "metadata": {},
   "outputs": [],
   "source": [
    "def build_mf6gwfgwt(sim_folder, solutes, influent_concentration, initial_solution, longitudinal_dispersivity):\n",
    "    name = \"flow\"\n",
    "    sim_ws = os.path.join(ws, sim_folder, \"mf6gwfgwt\")\n",
    "    sim = flopy.mf6.MFSimulation(\n",
    "        sim_name=name, sim_ws=sim_ws, exe_name=\"mf6\"\n",
    "    )\n",
    "    tdis_ds = ((total_time, 400, 1.0),)    \n",
    "    flopy.mf6.ModflowTdis(sim, nper=nper, perioddata=tdis_ds, time_units=time_units)\n",
    "    ims = flopy.mf6.ModflowIms(sim, filename=f\"{name}.ims\")\n",
    "    \n",
    "    gwf = flopy.mf6.ModflowGwf(sim, modelname=name, save_flows=True)\n",
    "    sim.register_ims_package(ims, [gwf.name])\n",
    "    flopy.mf6.ModflowGwfdis(\n",
    "        gwf,\n",
    "        length_units=length_units,\n",
    "        nlay=nlay,\n",
    "        nrow=nrow,\n",
    "        ncol=ncol,\n",
    "        delr=delr,\n",
    "        delc=delc,\n",
    "        top=top,\n",
    "        botm=botm,\n",
    "    )\n",
    "    flopy.mf6.ModflowGwfnpf(\n",
    "        gwf,\n",
    "        save_specific_discharge=True,\n",
    "        save_saturation=True,\n",
    "        icelltype=0,\n",
    "        k=hydraulic_conductivity,\n",
    "    )\n",
    "    flopy.mf6.ModflowGwfic(gwf, strt=1.0)\n",
    "    flopy.mf6.ModflowGwfchd(gwf, stress_period_data=[[(0, 0, ncol - 1), 1.0]])\n",
    "    wel_spd = {\n",
    "        0: [\n",
    "            [\n",
    "                (0, 0, 0),\n",
    "                specific_discharge * delc * delr,   # m^3/s\n",
    "                *influent_concentration,\n",
    "            ]\n",
    "        ],\n",
    "    }\n",
    "    \n",
    "    flopy.mf6.ModflowGwfwel(\n",
    "        gwf,\n",
    "        stress_period_data=wel_spd,\n",
    "        pname=\"WEL-1\",\n",
    "        auxiliary=solutes.tolist()\n",
    "    )\n",
    "    head_filerecord = f\"{name}.hds\"\n",
    "    budget_filerecord = f\"{name}.bud\"\n",
    "    flopy.mf6.ModflowGwfoc(\n",
    "        gwf,\n",
    "        head_filerecord=head_filerecord,\n",
    "        budget_filerecord=budget_filerecord,\n",
    "        saverecord=[(\"HEAD\", \"ALL\"), (\"BUDGET\", \"ALL\")],\n",
    "    )\n",
    "    \n",
    "    # set vars for use in run_model\n",
    "    sim.sim_ws = sim_ws\n",
    "    \n",
    "    # @todo update for other OSs\n",
    "    sim.libmf6 = Path(os.path.join(os.environ[\"USERPROFILE\"], \"AppData\\\\Local\\\\flopy\\\\bin\", \"libmf6\"))\n",
    "    \n",
    "    # build transports\n",
    "    for i, solute in enumerate(solutes):\n",
    "        name = f\"trans.{solute}\"\n",
    "        gwt = flopy.mf6.ModflowGwt(sim, modelname=name, save_flows=True)\n",
    "        # Use unscaled values for H and O\n",
    "        scale = \"DIAGONAL\"\n",
    "        if (solutes[0] != \"H2O\"):\n",
    "            if solute == \"H\" or solute == \"O\":\n",
    "                scale = \"none\"\n",
    "        imsgwt = flopy.mf6.ModflowIms(sim, linear_acceleration=\"bicgstab\", filename=f\"{gwt.name}.ims\",\n",
    "            inner_dvclose=1e-9, outer_dvclose=1e-8, scaling_method=scale)\n",
    "        sim.register_ims_package(imsgwt, [gwt.name])\n",
    "        \n",
    "        flopy.mf6.ModflowGwtdis(\n",
    "            gwt,\n",
    "            length_units=length_units,\n",
    "            nlay=nlay,\n",
    "            nrow=nrow,\n",
    "            ncol=ncol,\n",
    "            delr=delr,\n",
    "            delc=delc,\n",
    "            top=top,\n",
    "            botm=botm,\n",
    "        )\n",
    "        \n",
    "        flopy.mf6.ModflowGwtic(gwt, strt=initial_solution[i], filename=f\"{gwt.name}.ic\")\n",
    "        \n",
    "        flopy.mf6.ModflowGwtmst(\n",
    "            gwt,\n",
    "            porosity=porosity,\n",
    "        )\n",
    "        \n",
    "        flopy.mf6.ModflowGwtadv(gwt, scheme=\"TVD\")\n",
    "        flopy.mf6.ModflowGwtdsp(\n",
    "            gwt,\n",
    "            xt3d_off=True,\n",
    "            diffc=0.0,\n",
    "            alh=longitudinal_dispersivity,\n",
    "            ath1=longitudinal_dispersivity,\n",
    "        )\n",
    "        \n",
    "        sourcerecarray = [[\"WEL-1\", \"AUX\", solute]]\n",
    "        flopy.mf6.ModflowGwtssm(gwt, sources=sourcerecarray)\n",
    "        obs_data = {\n",
    "            f\"{solute}.obs.csv\": [\n",
    "                (\"CELL00\", \"CONCENTRATION\", (0, 0, 0)),\n",
    "                (\"CELL01\", \"CONCENTRATION\", (0, 0, 1)),\n",
    "                (\"CELL02\", \"CONCENTRATION\", (0, 0, 2)),\n",
    "                (\"CELL03\", \"CONCENTRATION\", (0, 0, 3)),\n",
    "                (\"CELL04\", \"CONCENTRATION\", (0, 0, 4)),\n",
    "                (\"CELL05\", \"CONCENTRATION\", (0, 0, 5)),\n",
    "                (\"CELL06\", \"CONCENTRATION\", (0, 0, 6)),\n",
    "                (\"CELL07\", \"CONCENTRATION\", (0, 0, 7)),\n",
    "                (\"CELL08\", \"CONCENTRATION\", (0, 0, 8)),\n",
    "                (\"CELL09\", \"CONCENTRATION\", (0, 0, 9)),\n",
    "                (\"CELL10\", \"CONCENTRATION\", (0, 0, 10)),\n",
    "                (\"CELL11\", \"CONCENTRATION\", (0, 0, 11)),\n",
    "                (\"CELL12\", \"CONCENTRATION\", (0, 0, 12)),\n",
    "                (\"CELL13\", \"CONCENTRATION\", (0, 0, 13)),\n",
    "                (\"CELL14\", \"CONCENTRATION\", (0, 0, 14)),\n",
    "                (\"CELL15\", \"CONCENTRATION\", (0, 0, 15)),\n",
    "                (\"CELL16\", \"CONCENTRATION\", (0, 0, 16)),\n",
    "                (\"CELL17\", \"CONCENTRATION\", (0, 0, 17)),\n",
    "                (\"CELL18\", \"CONCENTRATION\", (0, 0, 18)),\n",
    "                (\"CELL19\", \"CONCENTRATION\", (0, 0, 19)),\n",
    "                (\"CELL20\", \"CONCENTRATION\", (0, 0, 20)),\n",
    "                (\"CELL21\", \"CONCENTRATION\", (0, 0, 21)),\n",
    "                (\"CELL22\", \"CONCENTRATION\", (0, 0, 22)),\n",
    "                (\"CELL23\", \"CONCENTRATION\", (0, 0, 23)),\n",
    "                (\"CELL24\", \"CONCENTRATION\", (0, 0, 24)),\n",
    "                (\"CELL25\", \"CONCENTRATION\", (0, 0, 25)),\n",
    "                (\"CELL26\", \"CONCENTRATION\", (0, 0, 26)),\n",
    "                (\"CELL27\", \"CONCENTRATION\", (0, 0, 27)),\n",
    "                (\"CELL28\", \"CONCENTRATION\", (0, 0, 28)),\n",
    "                (\"CELL29\", \"CONCENTRATION\", (0, 0, 29)),\n",
    "                (\"CELL30\", \"CONCENTRATION\", (0, 0, 30)),\n",
    "                (\"CELL31\", \"CONCENTRATION\", (0, 0, 31)),\n",
    "                (\"CELL32\", \"CONCENTRATION\", (0, 0, 32)),\n",
    "                (\"CELL33\", \"CONCENTRATION\", (0, 0, 33)),\n",
    "                (\"CELL34\", \"CONCENTRATION\", (0, 0, 34)),\n",
    "                (\"CELL35\", \"CONCENTRATION\", (0, 0, 35)),\n",
    "                (\"CELL36\", \"CONCENTRATION\", (0, 0, 36)),\n",
    "                (\"CELL37\", \"CONCENTRATION\", (0, 0, 37)),\n",
    "                (\"CELL38\", \"CONCENTRATION\", (0, 0, 38)),\n",
    "                (\"CELL39\", \"CONCENTRATION\", (0, 0, 39)),\n",
    "            ],\n",
    "        }\n",
    "        obs_package = flopy.mf6.ModflowUtlobs(\n",
    "            gwt, digits=10, print_input=True, continuous=obs_data\n",
    "        )\n",
    "        flopy.mf6.ModflowGwtoc(\n",
    "            gwt,\n",
    "            budget_filerecord=f\"{gwt.name}.cbc\",\n",
    "            concentration_filerecord=f\"{gwt.name}.ucn\",\n",
    "            saverecord=[(\"CONCENTRATION\", \"ALL\"), (\"BUDGET\", \"LAST\")],\n",
    "            printrecord=[(\"CONCENTRATION\", \"LAST\"), (\"BUDGET\", \"LAST\")],\n",
    "        )\n",
    "        \n",
    "        flopy.mf6.ModflowGwfgwt(\n",
    "            sim, exgtype=\"GWF6-GWT6\", exgmnamea=gwf.name, exgmnameb=gwt.name, filename=f\"{gwf.name}-{gwt.name}.gwfgwt\"\n",
    "        )        \n",
    "\n",
    "    return sim"
   ]
  },
  {
   "cell_type": "markdown",
   "id": "4ff21e5c",
   "metadata": {
    "lines_to_next_cell": 2
   },
   "source": [
    "MODFLOW 6 flopy GWF simulation object (sim) is returned"
   ]
  },
  {
   "cell_type": "code",
   "execution_count": null,
   "id": "93b506a5",
   "metadata": {
    "lines_to_next_cell": 2
   },
   "outputs": [],
   "source": [
    "def build_model(sim_name, longitudinal_dispersivity):\n",
    "    sims = None\n",
    "    if config.buildModel:\n",
    "        # build_phreeqcrm\n",
    "        sim_phreeqcrm = build_phreeqcrm(sim_name)\n",
    "        \n",
    "        solutes                = sim_phreeqcrm.solutes        \n",
    "        initial_solution       = sim_phreeqcrm.initial_solution\n",
    "        influent_concentration = sim_phreeqcrm.influent_concentration\n",
    "        \n",
    "        sim_mf6gwf = build_mf6gwfgwt(sim_name, solutes, influent_concentration, initial_solution, longitudinal_dispersivity)\n",
    "        sims = (sim_phreeqcrm, sim_mf6gwf)\n",
    "    return sims"
   ]
  },
  {
   "cell_type": "markdown",
   "id": "dd0d31f2",
   "metadata": {
    "lines_to_next_cell": 2
   },
   "source": [
    "Function to write model files"
   ]
  },
  {
   "cell_type": "code",
   "execution_count": null,
   "id": "62336ab8",
   "metadata": {
    "lines_to_next_cell": 2
   },
   "outputs": [],
   "source": [
    "def write_model(sims, silent=True):\n",
    "    if config.writeModel:\n",
    "        _, sim_mf6gwf = sims\n",
    "        sim_mf6gwf.write_simulation(silent=silent)\n",
    "    return"
   ]
  },
  {
   "cell_type": "markdown",
   "id": "0e2ab143",
   "metadata": {
    "lines_to_next_cell": 2
   },
   "source": [
    "Function to run the model\n",
    "True is returned if the model runs successfully"
   ]
  },
  {
   "cell_type": "code",
   "execution_count": null,
   "id": "0cb98454",
   "metadata": {},
   "outputs": [],
   "source": [
    "@config.timeit\n",
    "def run_model(sims, silent=True):\n",
    "    \n",
    "    success = True\n",
    "    if config.runModel:\n",
    "        phreeqcrm, sim_mf6gwf = sims\n",
    "        concs = phreeqcrm.get_value_ptr(\"Concentrations\")\n",
    "        ip = phreeqc_mod.IPhreeqc()\n",
    "        mf6api = modflowapi.ModflowApi(sim_mf6gwf.libmf6, working_directory=sim_mf6gwf.sim_ws)\n",
    "        mf6api.initialize()\n",
    "        \n",
    "        input_var_names = mf6api.get_input_var_names()\n",
    "        nxyz = nlay*nrow*ncol\n",
    "        current_time = mf6api.get_current_time()\n",
    "        end_time     = mf6api.get_end_time()\n",
    "        trans_concs = np.full(nxyz*len(phreeqcrm.solutes), 0.0)\n",
    "        while current_time < end_time:\n",
    "            mf6api.update()\n",
    "            for i, solute in enumerate(phreeqcrm.solutes):\n",
    "                conc = mf6api.get_value_ptr(f\"TRANS.{solute.upper()}/X\")\n",
    "                #status = phreeqcrm.SetIthConcentration(i, conc / concentration_factor)\n",
    "                trans_concs[i*nxyz:(i+1)*nxyz] = conc / concentration_factor\n",
    "            phreeqcrm.set_value(\"Concentrations\", trans_concs)\n",
    "            phreeqcrm.update()\n",
    "            for i, solute in enumerate(phreeqcrm.solutes):\n",
    "                #conc = phreeqcrm.GetIthConcentration(i)\n",
    "                conc = concs[i*nxyz:(i+1)*nxyz] * concentration_factor\n",
    "                mf6api.set_value(f\"TRANS.{solute.upper()}/X\", conc)\n",
    "            current_time = mf6api.get_current_time()\n",
    "        mf6api.finalize()\n",
    "        if not silent:\n",
    "            print(\"NORMAL TERMINATION OF SIMULATION\")\n",
    "    return success"
   ]
  },
  {
   "cell_type": "code",
   "execution_count": null,
   "id": "5850f548-3181-4062-9c89-3b061c4c9d5a",
   "metadata": {},
   "outputs": [],
   "source": [
    "def make_script():\n",
    "    \"\"\"\n",
    "    Specify script.\n",
    "\n",
    "    Transport calculation from example 11.\n",
    "    \"\"\"\n",
    "    script = \"\"\"\n",
    "TITLE Example 11.--Transport and cation exchange.\n",
    "SOLUTION 0  CaCl2\n",
    "        units            mmol/kgw\n",
    "        temp             25.0\n",
    "        pH               7.0     charge\n",
    "        pe               12.5    O2(g)   -0.68\n",
    "        Ca               0.6\n",
    "        Cl               1.2\n",
    "SOLUTION 1-40  Initial solution for column\n",
    "        units            mmol/kgw\n",
    "        temp             25.0\n",
    "        pH               7.0     charge\n",
    "        pe               12.5    O2(g)   -0.68\n",
    "        Na               1.0\n",
    "        K                0.2\n",
    "        N(5)             1.2\n",
    "END\n",
    "EXCHANGE 1-40\n",
    "        -equilibrate 1\n",
    "        X                0.0011\n",
    "END\n",
    "TRANSPORT\n",
    "        -cells           40\n",
    "        -lengths         0.002\n",
    "        -shifts          100\n",
    "        -time_step       720.0\n",
    "        -flow_direction  forward\n",
    "        -boundary_conditions   flux  flux\n",
    "        -diffusion_coefficient 0.0e-9\n",
    "        -dispersivities  0.002\n",
    "        -correct_disp    true\n",
    "        -punch_cells     40\n",
    "        -punch_frequency 1\n",
    "        -print_cells     40\n",
    "        -print_frequency 20\n",
    "SELECTED_OUTPUT 1\n",
    "        -file            ex11trn.sel\n",
    "        -reset           false\n",
    "        -high_precision true\n",
    "USER_PUNCH 1\n",
    "-headings PV Ca Cl K N Na Cl_analytical\n",
    "10 PUNCH (TOTAL_TIME)/ (40*720) \n",
    "20 PUNCH TOT(\"Ca\"), TOT(\"Cl\"), TOT(\"K\"), TOT(\"N\"), TOT(\"Na\")\n",
    "# calculate Cl_analytical...\n",
    "  50 x = (STEP_NO + 0.5) / cell_no\n",
    "  60 DATA 0.254829592, -0.284496736, 1.421413741, -1.453152027, 1.061405429, 0.3275911\n",
    "  70 READ a1, a2, a3, a4, a5, a6\n",
    "  80 Peclet = 0.08 / 0.002\n",
    "  90  z = (1 - x) / SQRT(4 * x / Peclet)\n",
    "  100 PA = 0\n",
    "  110 GOSUB 2000 # calculate e_erfc = exp(PA) * erfc(z)\n",
    "  120 e_erfc1 = e_erfc\n",
    "  130 z = (1 + x) / SQRT(4 * x / Peclet)\n",
    "  140 PA = Peclet\n",
    "  150 GOSUB 2000 # calculate exp(PA) * erfc(z)\n",
    "  160 y = 0.6 * (e_erfc1 + e_erfc)\n",
    "  #170 PLOT_XY x, y, line_width = 0, symbol = Circle, color = Red\n",
    "  170 PUNCH y/1000\n",
    "  180 d = (y - TOT(\"Cl\")*1000)^2\n",
    "  190 IF EXISTS(10) THEN PUT(d + GET(10), 10) ELSE PUT(d, 10)\n",
    "  200 IF STEP_NO = 2 * CELL_NO THEN print 'SSQD for Cl after 2 Pore Volumes: ', GET(10), '(mmol/L)^2'\n",
    "  210 END\n",
    "  2000 REM calculate e_erfc = exp(PA) * erfc(z)...\n",
    "  2010 sgz = SGN(z)\n",
    "  2020 z = ABS(z)\n",
    "  2050 b = 1 / (1 + a6 * z)\n",
    "  2060 e_erfc = b * (a1 + b * (a2 + b * (a3 + b * (a4 + b * a5)))) * EXP(PA - (z * z))\n",
    "  2070 IF sgz = -1 THEN e_erfc = 2 * EXP(PA) - e_erfc\n",
    "  2080 RETURN\n",
    "END\n",
    "        \"\"\"\n",
    "    return script"
   ]
  },
  {
   "cell_type": "code",
   "execution_count": null,
   "id": "c12c3296-a50f-40c4-acc9-b4822fe6ea1f",
   "metadata": {},
   "outputs": [],
   "source": [
    "def get_selected_output(phreeqc):\n",
    "    \"\"\"Return calculation result as dict.\n",
    "\n",
    "    Header entries are the keys and the columns\n",
    "    are the values as lists of numbers.\n",
    "    \"\"\"\n",
    "    output = phreeqc.get_selected_output_array()\n",
    "    header = output[0]\n",
    "    conc = {}\n",
    "    for head in header:\n",
    "        conc[head] = []\n",
    "    for row in output[1:]:\n",
    "        for col, head in enumerate(header):\n",
    "            conc[head].append(row[col])\n",
    "    return conc"
   ]
  },
  {
   "cell_type": "code",
   "execution_count": null,
   "id": "bfceeae5-93b5-452f-91ec-c69480f3638d",
   "metadata": {},
   "outputs": [],
   "source": [
    "def run_ex11():\n",
    "    ip = phreeqc_mod.IPhreeqc()\n",
    "    ip.load_database(\"phreeqc.dat\")\n",
    "    script = make_script()\n",
    "    ip.run_string(script)\n",
    "    conc = get_selected_output(ip)\n",
    "    return conc"
   ]
  },
  {
   "cell_type": "markdown",
   "id": "0bf39137",
   "metadata": {
    "lines_to_next_cell": 2
   },
   "source": [
    "Function to plot the model results"
   ]
  },
  {
   "cell_type": "code",
   "execution_count": null,
   "id": "c14c001d",
   "metadata": {},
   "outputs": [],
   "source": [
    "def plot_results_ct(\n",
    "    sims, idx, solutes_idx, solutes, conc, phast_ex11, longitudinal_dispersivity\n",
    "):\n",
    "    if config.plotModel:\n",
    "        _, sim_mf6gwf = sims\n",
    "        fs = USGSFigure(figure_type=\"graph\", verbose=False)\n",
    "\n",
    "        sim_ws = sim_mf6gwf.simulation_data.mfpath.get_sim_path()\n",
    "        \n",
    "        mf6gwt_ra = sim_mf6gwf.get_model(f\"trans.{solutes[solutes_idx]}\").obs.output.obs().data\n",
    "        fig, axs = plt.subplots(1, 1, figsize=figure_size, dpi=300, tight_layout=True)\n",
    "        iskip = 4\n",
    "        \n",
    "        obsnames = [\"CELL39\"]\n",
    "        simtimes = mf6gwt_ra[\"totim\"]\n",
    "        \n",
    "        dispersion_coefficient = (\n",
    "            longitudinal_dispersivity * specific_discharge\n",
    "        )\n",
    "        colors=[\"blue\", \"red\", \"green\", \"cyan\"]\n",
    "        markers=[\"o\",\"x\",\"+\",\"*\"]\n",
    "        # Modflow\n",
    "        i = 0\n",
    "        local_concentration_factor = 1000.0\n",
    "        var = np.array(mf6gwt_ra[obsnames[i]]) * local_concentration_factor\n",
    "        axs.plot(\n",
    "            simtimes[::iskip]/28800.,\n",
    "            var[::iskip],\n",
    "            marker=markers[i],\n",
    "            ls=\"none\",\n",
    "            mec=colors[i],\n",
    "            mfc=\"none\",\n",
    "            markersize=\"4\",\n",
    "            label=\"Modflow\",\n",
    "        )\n",
    "        i = 1\n",
    "        var = np.array(conc[solutes[solutes_idx]]) * local_concentration_factor\n",
    "        axs.plot(\n",
    "            conc[\"PV\"],\n",
    "            var,\n",
    "            marker=markers[i],\n",
    "            ls=\"none\",\n",
    "            mec=colors[i],\n",
    "            mfc=\"none\",\n",
    "            markersize=\"4\",\n",
    "            label=\"Phreeqc\",\n",
    "        )  \n",
    "        i = 2\n",
    "        t = np.full(len(phast_ex11), 1.0)\n",
    "        c = np.full(len(phast_ex11), 0.0)\n",
    "        for j in range(len(phast_ex11)):\n",
    "            t[j] = phast_ex11[j][3]/28800.0\n",
    "            c[j] = phast_ex11[j][solutes_idx + 2] * local_concentration_factor\n",
    "        axs.plot(\n",
    "            t,\n",
    "            c,\n",
    "            marker=markers[i],\n",
    "            ls=\"none\",\n",
    "            mec=colors[i],\n",
    "            mfc=\"none\",\n",
    "            markersize=\"4\",\n",
    "            label=\"PHAST\",\n",
    "        )  \n",
    "        i = 3\n",
    "        if solutes[solutes_idx] == \"Cl\":\n",
    "            var = np.array(conc[\"Cl_analytical\"]) * local_concentration_factor\n",
    "            axs.plot(\n",
    "                conc[\"PV\"],\n",
    "                var,\n",
    "                marker=markers[i],\n",
    "                ls=\"none\",\n",
    "                mec=colors[i],\n",
    "                mfc=\"none\",\n",
    "                markersize=\"4\",\n",
    "                label=\"Analytical\",\n",
    "            )              \n",
    "        axs.set_xlabel(\"Pore volumes\")\n",
    "        axs.set_ylabel(f\"{solutes[solutes_idx]} Concentration (mmol/kgw)\")            \n",
    "        axs.legend()\n",
    "\n",
    "        # save figure\n",
    "        if config.plotSave:\n",
    "            sim_folder = os.path.split(sim_ws)[0]\n",
    "            sim_folder = os.path.basename(sim_folder)\n",
    "            fname = f\"{sim_folder}-ct{config.figure_ext}\"\n",
    "            fpth = os.path.join(ws, \"..\", \"figures\", fname)\n",
    "            fig.savefig(fpth)"
   ]
  },
  {
   "cell_type": "markdown",
   "id": "7a542a12",
   "metadata": {
    "lines_to_next_cell": 2
   },
   "source": [
    "Function that wraps all of the steps for each scenario\n",
    "\n",
    "1. build_model,\n",
    "2. write_model,\n",
    "3. run_model, and\n",
    "4. plot_results.\n"
   ]
  },
  {
   "cell_type": "code",
   "execution_count": null,
   "id": "9254e320",
   "metadata": {},
   "outputs": [],
   "source": [
    "def scenario(idx, silent=True):\n",
    "    key = list(parameters.keys())[idx]\n",
    "    parameter_dict = parameters[key]\n",
    "\n",
    "    sims = build_model(key, **parameter_dict)\n",
    "    write_model(sims, silent=silent)\n",
    "    success = run_model(sims, silent=silent)\n",
    "    assert(success)\n",
    "    \n",
    "    if success:\n",
    "        phreeqcrm, sim_mf6gwf = sims\n",
    "        solutes = phreeqcrm.solutes\n",
    "        conc =  run_ex11()\n",
    "        phast_ex11 = np.loadtxt(\"phast_ex11.tsv\",skiprows=1)\n",
    "\n",
    "        for sidx, solute in enumerate(solutes):\n",
    "            if (solute != \"H2O\" and solute != \"H\" and solute != \"O\" and solute != \"Charge\"):\n",
    "                plot_results_ct(sims, idx, sidx, solutes, conc, phast_ex11, **parameter_dict)\n",
    "    "
   ]
  },
  {
   "cell_type": "code",
   "execution_count": null,
   "id": "d3e55848",
   "metadata": {},
   "outputs": [],
   "source": [
    "def test_01():\n",
    "    scenario(0, silent=False)"
   ]
  },
  {
   "cell_type": "code",
   "execution_count": null,
   "id": "0542ad2b",
   "metadata": {},
   "outputs": [],
   "source": [
    "if __name__ == \"__main__\":\n",
    "    scenario(0)"
   ]
  }
 ],
 "metadata": {
  "jupytext": {
   "cell_metadata_filter": "-all",
   "main_language": "python",
   "notebook_metadata_filter": "-all"
  },
  "kernelspec": {
   "display_name": "Python 3 (ipykernel)",
   "language": "python",
   "name": "python3"
  },
  "language_info": {
   "codemirror_mode": {
    "name": "ipython",
    "version": 3
   },
   "file_extension": ".py",
   "mimetype": "text/x-python",
   "name": "python",
   "nbconvert_exporter": "python",
   "pygments_lexer": "ipython3",
   "version": "3.12.4"
  }
 },
 "nbformat": 4,
 "nbformat_minor": 5
}
