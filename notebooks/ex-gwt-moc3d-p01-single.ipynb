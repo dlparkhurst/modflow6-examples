{
 "cells": [
  {
   "cell_type": "markdown",
   "id": "429fb06c",
   "metadata": {
    "lines_to_next_cell": 2
   },
   "source": [
    "## One-Dimensional Steady Flow with Transport\n",
    "\n",
    "MOC3D Problem 1\n",
    "\n"
   ]
  },
  {
   "cell_type": "markdown",
   "id": "1671df89",
   "metadata": {},
   "source": [
    "### One-Dimensional Steady Flow with Transport Problem Setup"
   ]
  },
  {
   "cell_type": "markdown",
   "id": "9fa9c9fa",
   "metadata": {},
   "source": [
    "Imports"
   ]
  },
  {
   "cell_type": "code",
   "execution_count": 1,
   "id": "a3a5ed54",
   "metadata": {},
   "outputs": [],
   "source": [
    "import os\n",
    "import sys"
   ]
  },
  {
   "cell_type": "code",
   "execution_count": 2,
   "id": "266377c7",
   "metadata": {},
   "outputs": [],
   "source": [
    "import flopy\n",
    "import matplotlib.pyplot as plt\n",
    "import numpy as np"
   ]
  },
  {
   "cell_type": "markdown",
   "id": "00dee7ca",
   "metadata": {},
   "source": [
    "Append to system path to include the common subdirectory"
   ]
  },
  {
   "cell_type": "code",
   "execution_count": 3,
   "id": "91c4b922",
   "metadata": {},
   "outputs": [],
   "source": [
    "sys.path.append(os.path.join(\"..\", \"common\"))"
   ]
  },
  {
   "cell_type": "markdown",
   "id": "0dcd267c",
   "metadata": {},
   "source": [
    "Import common functionality"
   ]
  },
  {
   "cell_type": "code",
   "execution_count": 4,
   "id": "d92da603",
   "metadata": {},
   "outputs": [],
   "source": [
    "import analytical\n",
    "import config\n",
    "from figspecs import USGSFigure"
   ]
  },
  {
   "cell_type": "code",
   "execution_count": 5,
   "id": "4ef6ca90",
   "metadata": {},
   "outputs": [],
   "source": [
    "mf6exe = \"mf6\"\n",
    "exe_name_mf = \"mf2005\"\n",
    "exe_name_mt = \"mt3dms\""
   ]
  },
  {
   "cell_type": "markdown",
   "id": "617d3608",
   "metadata": {},
   "source": [
    "Set figure properties specific to this problem"
   ]
  },
  {
   "cell_type": "code",
   "execution_count": 6,
   "id": "9d31c657",
   "metadata": {},
   "outputs": [],
   "source": [
    "figure_size = (5, 3)"
   ]
  },
  {
   "cell_type": "markdown",
   "id": "a33ceb07",
   "metadata": {},
   "source": [
    "Base simulation and model name and workspace"
   ]
  },
  {
   "cell_type": "code",
   "execution_count": 7,
   "id": "91aba9df",
   "metadata": {},
   "outputs": [],
   "source": [
    "ws = config.base_ws\n",
    "example_name = \"ex-gwt-moc3dp1\""
   ]
  },
  {
   "cell_type": "markdown",
   "id": "20ce23c6",
   "metadata": {},
   "source": [
    "Scenario parameters - make sure there is at least one blank line before next item"
   ]
  },
  {
   "cell_type": "code",
   "execution_count": 8,
   "id": "04fc42f4",
   "metadata": {},
   "outputs": [],
   "source": [
    "parameters = {\n",
    "    \"ex-gwt-moc3d-p01a-single\": {\n",
    "        \"longitudinal_dispersivity\": 0.1,\n",
    "        \"retardation_factor\": 1.0,\n",
    "        \"decay_rate\": 0.0,\n",
    "    },\n",
    "    \"ex-gwt-moc3d-p01b-single\": {\n",
    "        \"longitudinal_dispersivity\": 1.0,\n",
    "        \"retardation_factor\": 1.0,\n",
    "        \"decay_rate\": 0.0,\n",
    "    },\n",
    "    \"ex-gwt-moc3d-p01c-single\": {\n",
    "        \"longitudinal_dispersivity\": 1.0,\n",
    "        \"retardation_factor\": 2.0,\n",
    "        \"decay_rate\": 0.0,\n",
    "    },\n",
    "    \"ex-gwt-moc3d-p01d-single\": {\n",
    "        \"longitudinal_dispersivity\": 1.0,\n",
    "        \"retardation_factor\": 1.0,\n",
    "        \"decay_rate\": 0.01,\n",
    "    },\n",
    "}"
   ]
  },
  {
   "cell_type": "markdown",
   "id": "598e56c7",
   "metadata": {},
   "source": [
    "Scenario parameter units - make sure there is at least one blank line before next item\n",
    "add parameter_units to add units to the scenario parameter table"
   ]
  },
  {
   "cell_type": "code",
   "execution_count": 9,
   "id": "22cc9951",
   "metadata": {},
   "outputs": [],
   "source": [
    "parameter_units = {\n",
    "    \"longitudinal_dispersivity\": \"$cm$\",\n",
    "    \"retardation_factor\": \"unitless\",\n",
    "    \"decay_rate\": \"$s^{-1}$\",\n",
    "}"
   ]
  },
  {
   "cell_type": "markdown",
   "id": "72c430c8",
   "metadata": {},
   "source": [
    "Model units"
   ]
  },
  {
   "cell_type": "code",
   "execution_count": 10,
   "id": "1c566f9b",
   "metadata": {},
   "outputs": [],
   "source": [
    "length_units = \"cm\"\n",
    "time_units = \"seconds\""
   ]
  },
  {
   "cell_type": "markdown",
   "id": "beb8d83d",
   "metadata": {},
   "source": [
    "Table of model parameters"
   ]
  },
  {
   "cell_type": "code",
   "execution_count": 11,
   "id": "06051f9e",
   "metadata": {},
   "outputs": [],
   "source": [
    "nper = 1  # Number of periods\n",
    "nlay = 1  # Number of layers\n",
    "nrow = 1  # Number of rows\n",
    "ncol = 122  # Number of columns\n",
    "system_length = 12.0  # Length of system ($cm$)\n",
    "delr = 0.1  # Column width ($cm$)\n",
    "delc = 0.1  # Row width ($cm$)\n",
    "top = 1.0  # Top of the model ($cm$)\n",
    "botm = 0  # Layer bottom elevation ($cm$)\n",
    "specific_discharge = 0.1  # Specific discharge ($cm s^{-1}$)\n",
    "hydraulic_conductivity = 0.01  # Hydraulic conductivity ($cm s^{-1}$)\n",
    "porosity = 0.1  # Porosity of mobile domain (unitless)\n",
    "total_time = 120.0  # Simulation time ($s$)\n",
    "source_concentration = 1.0  # Source concentration (unitless)\n",
    "initial_concentration = 0.0  # Initial concentration (unitless)"
   ]
  },
  {
   "cell_type": "markdown",
   "id": "defe2f49",
   "metadata": {
    "lines_to_next_cell": 2
   },
   "source": [
    "### Functions to build, write, run, and plot models\n",
    "\n",
    "MODFLOW 6 flopy GWF simulation object (sim) is returned\n"
   ]
  },
  {
   "cell_type": "code",
   "execution_count": 12,
   "id": "a0f6a9b1",
   "metadata": {},
   "outputs": [],
   "source": [
    "def get_sorption_dict(retardation_factor):\n",
    "    sorption = None\n",
    "    bulk_density = None\n",
    "    distcoef = None\n",
    "    if retardation_factor > 1.0:\n",
    "        sorption = \"linear\"\n",
    "        bulk_density = 1.0\n",
    "        distcoef = (retardation_factor - 1.0) * porosity / bulk_density\n",
    "    sorption_dict = {\n",
    "        \"sorption\": sorption,\n",
    "        \"bulk_density\": bulk_density,\n",
    "        \"distcoef\": distcoef,\n",
    "    }\n",
    "    return sorption_dict"
   ]
  },
  {
   "cell_type": "code",
   "execution_count": 13,
   "id": "561711fc",
   "metadata": {},
   "outputs": [],
   "source": [
    "def get_decay_dict(decay_rate, sorption=False):\n",
    "    first_order_decay = None\n",
    "    decay = None\n",
    "    decay_sorbed = None\n",
    "    if decay_rate != 0.0:\n",
    "        first_order_decay = True\n",
    "        decay = decay_rate\n",
    "        if sorption:\n",
    "            decay_sorbed = decay_rate\n",
    "    decay_dict = {\n",
    "        \"first_order_decay\": first_order_decay,\n",
    "        \"decay\": decay,\n",
    "        \"decay_sorbed\": decay_sorbed,\n",
    "    }\n",
    "    return decay_dict"
   ]
  },
  {
   "cell_type": "code",
   "execution_count": 14,
   "id": "65ece80a",
   "metadata": {
    "lines_to_next_cell": 2
   },
   "outputs": [],
   "source": [
    "# def build_mf6gwf(sim_folder):\n",
    "def build_mf6gwf(sim_folder, longitudinal_dispersivity, retardation_factor, decay_rate):\n",
    "    print(f\"Building mf6gwf model...{sim_folder}\")\n",
    "    name = \"flow\"\n",
    "    sim_ws = os.path.join(ws, sim_folder, \"mf6gwf\")\n",
    "    sim = flopy.mf6.MFSimulation(\n",
    "        sim_name=name, sim_ws=sim_ws, exe_name=\"mf6\"\n",
    "    )\n",
    "    #tdis_ds = ((total_time, 1, 1.0),)\n",
    "    tdis_ds = ((total_time, 240, 1.0),)\n",
    "    flopy.mf6.ModflowTdis(sim, nper=nper, perioddata=tdis_ds, time_units=time_units)\n",
    "    #{\n",
    "    #flopy.mf6.ModflowIms(sim)\n",
    "    ims = flopy.mf6.ModflowIms(sim)\n",
    "    #}\n",
    "    gwf = flopy.mf6.ModflowGwf(sim, modelname=name, save_flows=True)\n",
    "    #{\n",
    "    sim.register_ims_package(ims, [gwf.name])\n",
    "    #}\n",
    "    flopy.mf6.ModflowGwfdis(\n",
    "        gwf,\n",
    "        length_units=length_units,\n",
    "        nlay=nlay,\n",
    "        nrow=nrow,\n",
    "        ncol=ncol,\n",
    "        delr=delr,\n",
    "        delc=delc,\n",
    "        top=top,\n",
    "        botm=botm,\n",
    "    )\n",
    "    flopy.mf6.ModflowGwfnpf(\n",
    "        gwf,\n",
    "        save_specific_discharge=True,\n",
    "        save_saturation=True,\n",
    "        icelltype=0,\n",
    "        k=hydraulic_conductivity,\n",
    "    )\n",
    "    flopy.mf6.ModflowGwfic(gwf, strt=1.0)\n",
    "    flopy.mf6.ModflowGwfchd(gwf, stress_period_data=[[(0, 0, ncol - 1), 1.0]])\n",
    "    wel_spd = {\n",
    "        0: [\n",
    "            [\n",
    "                (0, 0, 0),\n",
    "                specific_discharge * delc * delr * top,\n",
    "                source_concentration,\n",
    "            ]\n",
    "        ],\n",
    "    }\n",
    "    flopy.mf6.ModflowGwfwel(\n",
    "        gwf,\n",
    "        stress_period_data=wel_spd,\n",
    "        pname=\"WEL-1\",\n",
    "        auxiliary=[\"CONCENTRATION\"],\n",
    "    )\n",
    "    head_filerecord = f\"{name}.hds\"\n",
    "    budget_filerecord = f\"{name}.bud\"\n",
    "    flopy.mf6.ModflowGwfoc(\n",
    "        gwf,\n",
    "        head_filerecord=head_filerecord,\n",
    "        budget_filerecord=budget_filerecord,\n",
    "        saverecord=[(\"HEAD\", \"ALL\"), (\"BUDGET\", \"ALL\")],\n",
    "    )\n",
    "    #{ build_mf6gwt\n",
    "    gwt = flopy.mf6.ModflowGwt(sim, modelname=\"trans\", save_flows=True)    \n",
    "    imsgwt = flopy.mf6.ModflowIms(sim, linear_acceleration=\"bicgstab\")\n",
    "    sim.register_ims_package(imsgwt, [gwt.name])    \n",
    "    flopy.mf6.ModflowGwtdis(\n",
    "        gwt,\n",
    "        length_units=length_units,\n",
    "        nlay=nlay,\n",
    "        nrow=nrow,\n",
    "        ncol=ncol,\n",
    "        delr=delr,\n",
    "        delc=delc,\n",
    "        top=top,\n",
    "        botm=botm,\n",
    "    )\n",
    "    flopy.mf6.ModflowGwtic(gwt, strt=0)\n",
    "    flopy.mf6.ModflowGwtmst(\n",
    "        gwt,\n",
    "        porosity=porosity,\n",
    "        **get_sorption_dict(retardation_factor),\n",
    "        **get_decay_dict(decay_rate, retardation_factor > 1.0),\n",
    "    )\n",
    "    flopy.mf6.ModflowGwtadv(gwt, scheme=\"TVD\")\n",
    "    flopy.mf6.ModflowGwtdsp(\n",
    "        gwt,\n",
    "        xt3d_off=True,\n",
    "        alh=longitudinal_dispersivity,\n",
    "        ath1=longitudinal_dispersivity,\n",
    "    )\n",
    "    ##pd = [\n",
    "    ##    (\"GWFHEAD\", f\"../mf6gwf/flow.hds\", None),\n",
    "    ##    (\"GWFBUDGET\", \"../mf6gwf/flow.bud\", None),\n",
    "    ##]\n",
    "    ##flopy.mf6.ModflowGwtfmi(gwt, packagedata=pd)\n",
    "    \n",
    "    sourcerecarray = [[\"WEL-1\", \"AUX\", \"CONCENTRATION\"]]\n",
    "    flopy.mf6.ModflowGwtssm(gwt, sources=sourcerecarray)\n",
    "    # flopy.mf6.ModflowGwtcnc(gwt, stress_period_data=[((0, 0, 0), source_concentration),])\n",
    "    obs_data = {\n",
    "        f\"{gwt.name}.obs.csv\": [\n",
    "            (\"X005\", \"CONCENTRATION\", (0, 0, 0)),\n",
    "            (\"X405\", \"CONCENTRATION\", (0, 0, 40)),\n",
    "            (\"X1105\", \"CONCENTRATION\", (0, 0, 110)),\n",
    "        ],\n",
    "    }\n",
    "    obs_package = flopy.mf6.ModflowUtlobs(\n",
    "        gwt, digits=10, print_input=True, continuous=obs_data\n",
    "    )\n",
    "    flopy.mf6.ModflowGwtoc(\n",
    "        gwt,\n",
    "        budget_filerecord=f\"{gwt.name}.cbc\",\n",
    "        concentration_filerecord=f\"{gwt.name}.ucn\",\n",
    "        saverecord=[(\"CONCENTRATION\", \"ALL\"), (\"BUDGET\", \"LAST\")],\n",
    "        printrecord=[(\"CONCENTRATION\", \"LAST\"), (\"BUDGET\", \"LAST\")],\n",
    "    )\n",
    "    \n",
    "    flopy.mf6.ModflowGwfgwt(\n",
    "        sim, exgtype=\"GWF6-GWT6\", exgmnamea=gwf.name, exgmnameb=gwt.name\n",
    "    )\n",
    "    #}\n",
    "    return sim"
   ]
  },
  {
   "cell_type": "markdown",
   "id": "4ff21e5c",
   "metadata": {
    "lines_to_next_cell": 2
   },
   "source": [
    "MODFLOW 6 flopy GWF simulation object (sim) is returned"
   ]
  },
  {
   "cell_type": "code",
   "execution_count": 15,
   "id": "ef1cd9c3",
   "metadata": {},
   "outputs": [],
   "source": [
    "def build_mf6gwt(sim_folder, longitudinal_dispersivity, retardation_factor, decay_rate):\n",
    "    assert(False)\n",
    "    print(f\"Building mf6gwt model...{sim_folder}\")\n",
    "    name = \"trans\"\n",
    "    sim_ws = os.path.join(ws, sim_folder, \"mf6gwt\")\n",
    "    sim = flopy.mf6.MFSimulation(\n",
    "        sim_name=name, sim_ws=sim_ws, exe_name=\"mf6\"\n",
    "    )\n",
    "    tdis_ds = ((total_time, 240, 1.0),)\n",
    "    flopy.mf6.ModflowTdis(sim, nper=nper, perioddata=tdis_ds, time_units=time_units)\n",
    "    flopy.mf6.ModflowIms(sim, linear_acceleration=\"bicgstab\")\n",
    "    gwt = flopy.mf6.ModflowGwt(sim, modelname=name, save_flows=True)\n",
    "    flopy.mf6.ModflowGwtdis(\n",
    "        gwt,\n",
    "        length_units=length_units,\n",
    "        nlay=nlay,\n",
    "        nrow=nrow,\n",
    "        ncol=ncol,\n",
    "        delr=delr,\n",
    "        delc=delc,\n",
    "        top=top,\n",
    "        botm=botm,\n",
    "    )\n",
    "    flopy.mf6.ModflowGwtic(gwt, strt=0)\n",
    "    flopy.mf6.ModflowGwtmst(\n",
    "        gwt,\n",
    "        porosity=porosity,\n",
    "        **get_sorption_dict(retardation_factor),\n",
    "        **get_decay_dict(decay_rate, retardation_factor > 1.0),\n",
    "    )\n",
    "    flopy.mf6.ModflowGwtadv(gwt, scheme=\"TVD\")\n",
    "    flopy.mf6.ModflowGwtdsp(\n",
    "        gwt,\n",
    "        xt3d_off=True,\n",
    "        alh=longitudinal_dispersivity,\n",
    "        ath1=longitudinal_dispersivity,\n",
    "    )\n",
    "    pd = [\n",
    "        (\"GWFHEAD\", f\"../mf6gwf/flow.hds\", None),\n",
    "        (\"GWFBUDGET\", \"../mf6gwf/flow.bud\", None),\n",
    "    ]\n",
    "    flopy.mf6.ModflowGwtfmi(gwt, packagedata=pd)\n",
    "    sourcerecarray = [[\"WEL-1\", \"AUX\", \"CONCENTRATION\"]]\n",
    "    flopy.mf6.ModflowGwtssm(gwt, sources=sourcerecarray)\n",
    "    # flopy.mf6.ModflowGwtcnc(gwt, stress_period_data=[((0, 0, 0), source_concentration),])\n",
    "    obs_data = {\n",
    "        f\"{name}.obs.csv\": [\n",
    "            (\"X005\", \"CONCENTRATION\", (0, 0, 0)),\n",
    "            (\"X405\", \"CONCENTRATION\", (0, 0, 40)),\n",
    "            (\"X1105\", \"CONCENTRATION\", (0, 0, 110)),\n",
    "        ],\n",
    "    }\n",
    "    obs_package = flopy.mf6.ModflowUtlobs(\n",
    "        gwt, digits=10, print_input=True, continuous=obs_data\n",
    "    )\n",
    "    flopy.mf6.ModflowGwtoc(\n",
    "        gwt,\n",
    "        budget_filerecord=f\"{name}.cbc\",\n",
    "        concentration_filerecord=f\"{name}.ucn\",\n",
    "        saverecord=[(\"CONCENTRATION\", \"ALL\"), (\"BUDGET\", \"LAST\")],\n",
    "        printrecord=[(\"CONCENTRATION\", \"LAST\"), (\"BUDGET\", \"LAST\")],\n",
    "    )\n",
    "    return sim"
   ]
  },
  {
   "cell_type": "code",
   "execution_count": 16,
   "id": "93b506a5",
   "metadata": {
    "lines_to_next_cell": 2
   },
   "outputs": [],
   "source": [
    "def build_model(sim_name, longitudinal_dispersivity, retardation_factor, decay_rate):\n",
    "    sims = None\n",
    "    if config.buildModel:\n",
    "        ##sim_mf6gwf = build_mf6gwf(sim_name)\n",
    "        ##sim_mf6gwt = build_mf6gwt(\n",
    "        ##    sim_name, longitudinal_dispersivity, retardation_factor, decay_rate\n",
    "        ##)\n",
    "        sim_mf6gwf = build_mf6gwf(\n",
    "            sim_name, longitudinal_dispersivity, retardation_factor, decay_rate\n",
    "        )        \n",
    "        ##sims = (sim_mf6gwf, sim_mf6gwt)\n",
    "        sims = sim_mf6gwf\n",
    "    return sims"
   ]
  },
  {
   "cell_type": "markdown",
   "id": "dd0d31f2",
   "metadata": {
    "lines_to_next_cell": 2
   },
   "source": [
    "Function to write model files"
   ]
  },
  {
   "cell_type": "code",
   "execution_count": 17,
   "id": "62336ab8",
   "metadata": {
    "lines_to_next_cell": 2
   },
   "outputs": [],
   "source": [
    "def write_model(sims, silent=True):\n",
    "    if config.writeModel:\n",
    "        #sim_mf6gwf, sim_mf6gwt = sims\n",
    "        sim_mf6gwf = sims\n",
    "        sim_mf6gwf.write_simulation(silent=silent)\n",
    "        #sim_mf6gwt.write_simulation(silent=silent)\n",
    "    return"
   ]
  },
  {
   "cell_type": "markdown",
   "id": "0e2ab143",
   "metadata": {
    "lines_to_next_cell": 2
   },
   "source": [
    "Function to run the model\n",
    "True is returned if the model runs successfully"
   ]
  },
  {
   "cell_type": "code",
   "execution_count": 18,
   "id": "a00c3ec8",
   "metadata": {
    "lines_to_next_cell": 2
   },
   "outputs": [],
   "source": [
    "@config.timeit\n",
    "def run_model(sims, silent=True):\n",
    "    success = True\n",
    "    if config.runModel:\n",
    "        success = False\n",
    "        #sim_mf6gwf, sim_mf6gwt = sims\n",
    "        sim_mf6gwf = sims\n",
    "        success, buff = sim_mf6gwf.run_simulation(silent=silent)\n",
    "        if not success:\n",
    "            print(buff)\n",
    "        ##success, buff = sim_mf6gwt.run_simulation(silent=silent)\n",
    "        ##if not success:\n",
    "        ##    print(buff)\n",
    "    return success"
   ]
  },
  {
   "cell_type": "markdown",
   "id": "0bf39137",
   "metadata": {
    "lines_to_next_cell": 2
   },
   "source": [
    "Function to plot the model results"
   ]
  },
  {
   "cell_type": "code",
   "execution_count": 19,
   "id": "c14c001d",
   "metadata": {},
   "outputs": [],
   "source": [
    "def plot_results_ct(\n",
    "    sims, idx, longitudinal_dispersivity, retardation_factor, decay_rate\n",
    "):\n",
    "    if config.plotModel:\n",
    "        print(\"Plotting C versus t model results...\")\n",
    "        sim_mf6gwf, sim_mf6gwt = sims\n",
    "        fs = USGSFigure(figure_type=\"graph\", verbose=False)\n",
    "\n",
    "        sim_ws = sim_mf6gwt.simulation_data.mfpath.get_sim_path()\n",
    "        mf6gwt_ra = sim_mf6gwt.get_model(\"trans\").obs.output.obs().data\n",
    "        fig, axs = plt.subplots(1, 1, figsize=figure_size, dpi=300, tight_layout=True)\n",
    "        alabel = [\"ANALYTICAL\", \"\", \"\"]\n",
    "        mlabel = [\"MODFLOW 6\", \"\", \"\"]\n",
    "        iskip = 5\n",
    "        atimes = np.arange(0, total_time, 0.1)\n",
    "        obsnames = [\"X005\", \"X405\", \"X1105\"]\n",
    "        simtimes = mf6gwt_ra[\"totim\"]\n",
    "        dispersion_coefficient = (\n",
    "            longitudinal_dispersivity * specific_discharge / retardation_factor\n",
    "        )\n",
    "        for i, x in enumerate([0.05, 4.05, 11.05]):\n",
    "            a1 = analytical.Wexler1d().analytical2(\n",
    "                x,\n",
    "                atimes,\n",
    "                specific_discharge / retardation_factor,\n",
    "                system_length,\n",
    "                dispersion_coefficient,\n",
    "                decay_rate,\n",
    "            )\n",
    "            if idx == 0:\n",
    "                idx_filter = a1 < 0\n",
    "                a1[idx_filter] = 0\n",
    "                idx_filter = a1 > 1\n",
    "                a1[idx_filter] = 0\n",
    "                idx_filter = atimes > 0\n",
    "                if i == 2:\n",
    "                    idx_filter = atimes > 79\n",
    "            elif idx > 0:\n",
    "                idx_filter = atimes > 0\n",
    "            axs.plot(atimes[idx_filter], a1[idx_filter], color=\"k\", label=alabel[i])\n",
    "            axs.plot(\n",
    "                simtimes[::iskip],\n",
    "                mf6gwt_ra[obsnames[i]][::iskip],\n",
    "                marker=\"o\",\n",
    "                ls=\"none\",\n",
    "                mec=\"blue\",\n",
    "                mfc=\"none\",\n",
    "                markersize=\"4\",\n",
    "                label=mlabel[i],\n",
    "            )\n",
    "        axs.set_ylim(0, 1.2)\n",
    "        axs.set_xlim(0, 120)\n",
    "        axs.set_xlabel(\"Time (seconds)\")\n",
    "        axs.set_ylabel(\"Normalized Concentration (unitless)\")\n",
    "        if idx in [0, 1]:\n",
    "            axs.text(1, 0.5, \"x=0.05\")\n",
    "            axs.text(45, 0.5, \"x=4.05\")\n",
    "            axs.text(100, 0.5, \"x=11.05\")\n",
    "        axs.legend()\n",
    "\n",
    "        # save figure\n",
    "        if config.plotSave:\n",
    "            sim_folder = os.path.split(sim_ws)[0]\n",
    "            sim_folder = os.path.basename(sim_folder)\n",
    "            fname = f\"{sim_folder}-ct{config.figure_ext}\"\n",
    "            fpth = os.path.join(ws, \"..\", \"figures\", fname)\n",
    "            fig.savefig(fpth)"
   ]
  },
  {
   "cell_type": "code",
   "execution_count": 20,
   "id": "9047ca5a",
   "metadata": {
    "lines_to_next_cell": 2
   },
   "outputs": [],
   "source": [
    "def plot_results_cd(\n",
    "    sims, idx, longitudinal_dispersivity, retardation_factor, decay_rate\n",
    "):\n",
    "    if config.plotModel:\n",
    "        print(\"Plotting C versus x model results...\")\n",
    "        sim_mf6gwf, sim_mf6gwt = sims\n",
    "        fs = USGSFigure(figure_type=\"graph\", verbose=False)\n",
    "\n",
    "        ucnobj_mf6 = sim_mf6gwt.trans.output.concentration()\n",
    "\n",
    "        fig, axs = plt.subplots(1, 1, figsize=figure_size, dpi=300, tight_layout=True)\n",
    "        alabel = [\"ANALYTICAL\", \"\", \"\"]\n",
    "        mlabel = [\"MODFLOW 6\", \"\", \"\"]\n",
    "        iskip = 5\n",
    "        ctimes = [6.0, 60.0, 120.0]\n",
    "        x = np.linspace(0.5 * delr, system_length - 0.5 * delr, ncol - 1)\n",
    "        dispersion_coefficient = (\n",
    "            longitudinal_dispersivity * specific_discharge / retardation_factor\n",
    "        )\n",
    "\n",
    "        for i, t in enumerate(ctimes):\n",
    "            a1 = analytical.Wexler1d().analytical2(\n",
    "                x,\n",
    "                t,\n",
    "                specific_discharge / retardation_factor,\n",
    "                system_length,\n",
    "                dispersion_coefficient,\n",
    "                decay_rate,\n",
    "            )\n",
    "            if idx == 0:\n",
    "                idx_filter = x > system_length\n",
    "                if i == 0:\n",
    "                    idx_filter = x > 6\n",
    "                if i == 1:\n",
    "                    idx_filter = x > 9\n",
    "                a1[idx_filter] = 0.0\n",
    "            axs.plot(x, a1, color=\"k\", label=alabel[i])\n",
    "            simconc = ucnobj_mf6.get_data(totim=t).flatten()\n",
    "            axs.plot(\n",
    "                x[::iskip],\n",
    "                simconc[::iskip],\n",
    "                marker=\"o\",\n",
    "                ls=\"none\",\n",
    "                mec=\"blue\",\n",
    "                mfc=\"none\",\n",
    "                markersize=\"4\",\n",
    "                label=mlabel[i],\n",
    "            )\n",
    "        axs.set_ylim(0, 1.1)\n",
    "        axs.set_xlim(0, 12)\n",
    "        if idx in [0, 1]:\n",
    "            axs.text(0.5, 0.7, \"t=6 s\")\n",
    "            axs.text(5.5, 0.7, \"t=60 s\")\n",
    "            axs.text(11, 0.7, \"t=120 s\")\n",
    "        axs.set_xlabel(\"Distance (cm)\")\n",
    "        axs.set_ylabel(\"Normalized Concentration (unitless)\")\n",
    "        plt.legend()\n",
    "\n",
    "        # save figure\n",
    "        if config.plotSave:\n",
    "            sim_ws = sim_mf6gwt.simulation_data.mfpath.get_sim_path()\n",
    "            sim_folder = os.path.split(sim_ws)[0]\n",
    "            sim_folder = os.path.basename(sim_folder)\n",
    "            fname = f\"{sim_folder}-cd{config.figure_ext}\"\n",
    "            fpth = os.path.join(ws, \"..\", \"figures\", fname)\n",
    "            fig.savefig(fpth)"
   ]
  },
  {
   "cell_type": "markdown",
   "id": "7a542a12",
   "metadata": {
    "lines_to_next_cell": 2
   },
   "source": [
    "Function that wraps all of the steps for each scenario\n",
    "\n",
    "1. build_model,\n",
    "2. write_model,\n",
    "3. run_model, and\n",
    "4. plot_results.\n"
   ]
  },
  {
   "cell_type": "code",
   "execution_count": 21,
   "id": "9254e320",
   "metadata": {},
   "outputs": [],
   "source": [
    "def scenario(idx, silent=True):\n",
    "    key = list(parameters.keys())[idx]\n",
    "    parameter_dict = parameters[key]\n",
    "    sims = build_model(key, **parameter_dict)\n",
    "    write_model(sims, silent=silent)\n",
    "    success = run_model(sims, silent=silent)\n",
    "    assert(success)\n",
    "    ##if success:\n",
    "    ##    plot_results_ct(sims, idx, **parameter_dict)\n",
    "    ##    plot_results_cd(sims, idx, **parameter_dict)"
   ]
  },
  {
   "cell_type": "code",
   "execution_count": 22,
   "id": "d3e55848",
   "metadata": {},
   "outputs": [],
   "source": [
    "# nosetest - exclude block from this nosetest to the next nosetest\n",
    "def test_01():\n",
    "    scenario(0, silent=False)"
   ]
  },
  {
   "cell_type": "code",
   "execution_count": 23,
   "id": "5cd40673",
   "metadata": {},
   "outputs": [],
   "source": [
    "def test_02():\n",
    "    scenario(1, silent=False)"
   ]
  },
  {
   "cell_type": "code",
   "execution_count": 24,
   "id": "5870619d",
   "metadata": {},
   "outputs": [],
   "source": [
    "def test_03():\n",
    "    scenario(2, silent=False)"
   ]
  },
  {
   "cell_type": "code",
   "execution_count": 25,
   "id": "533edb98",
   "metadata": {},
   "outputs": [],
   "source": [
    "def test_04():\n",
    "    scenario(3, silent=False)"
   ]
  },
  {
   "cell_type": "markdown",
   "id": "756b8c41",
   "metadata": {},
   "source": [
    "nosetest end"
   ]
  },
  {
   "cell_type": "code",
   "execution_count": 26,
   "id": "97ee9b03",
   "metadata": {},
   "outputs": [
    {
     "name": "stdout",
     "output_type": "stream",
     "text": [
      "Building mf6gwf model...ex-gwt-moc3d-p01a-single\n",
      "[]\n",
      "run_model  701.13 ms\n"
     ]
    },
    {
     "ename": "AssertionError",
     "evalue": "",
     "output_type": "error",
     "traceback": [
      "\u001b[1;31m---------------------------------------------------------------------------\u001b[0m",
      "\u001b[1;31mAssertionError\u001b[0m                            Traceback (most recent call last)",
      "Cell \u001b[1;32mIn[26], line 6\u001b[0m\n\u001b[0;32m      1\u001b[0m \u001b[38;5;28;01mif\u001b[39;00m \u001b[38;5;18m__name__\u001b[39m \u001b[38;5;241m==\u001b[39m \u001b[38;5;124m\"\u001b[39m\u001b[38;5;124m__main__\u001b[39m\u001b[38;5;124m\"\u001b[39m:\n\u001b[0;32m      2\u001b[0m     \u001b[38;5;66;03m# ### Simulated Zero-Order Growth in a Uniform Flow Field\u001b[39;00m\n\u001b[0;32m      3\u001b[0m \n\u001b[0;32m      4\u001b[0m     \u001b[38;5;66;03m# Scenario 1 - description\u001b[39;00m\n\u001b[1;32m----> 6\u001b[0m     \u001b[43mscenario\u001b[49m\u001b[43m(\u001b[49m\u001b[38;5;241;43m0\u001b[39;49m\u001b[43m)\u001b[49m\n\u001b[0;32m      8\u001b[0m     \u001b[38;5;66;03m# Scenario 2 - description\u001b[39;00m\n\u001b[0;32m     10\u001b[0m     scenario(\u001b[38;5;241m1\u001b[39m)\n",
      "Cell \u001b[1;32mIn[21], line 7\u001b[0m, in \u001b[0;36mscenario\u001b[1;34m(idx, silent)\u001b[0m\n\u001b[0;32m      5\u001b[0m write_model(sims, silent\u001b[38;5;241m=\u001b[39msilent)\n\u001b[0;32m      6\u001b[0m success \u001b[38;5;241m=\u001b[39m run_model(sims, silent\u001b[38;5;241m=\u001b[39msilent)\n\u001b[1;32m----> 7\u001b[0m \u001b[38;5;28;01massert\u001b[39;00m(success)\n",
      "\u001b[1;31mAssertionError\u001b[0m: "
     ]
    }
   ],
   "source": [
    "if __name__ == \"__main__\":\n",
    "    # ### Simulated Zero-Order Growth in a Uniform Flow Field\n",
    "\n",
    "    # Scenario 1 - description\n",
    "\n",
    "    scenario(0)\n",
    "\n",
    "    # Scenario 2 - description\n",
    "\n",
    "    scenario(1)\n",
    "\n",
    "    # Scenario 3 - description\n",
    "\n",
    "    scenario(2)\n",
    "\n",
    "    # Scenario 4 - description\n",
    "\n",
    "    scenario(3)"
   ]
  }
 ],
 "metadata": {
  "jupytext": {
   "cell_metadata_filter": "-all",
   "main_language": "python",
   "notebook_metadata_filter": "-all"
  },
  "kernelspec": {
   "display_name": "Python 3 (ipykernel)",
   "language": "python",
   "name": "python3"
  },
  "language_info": {
   "codemirror_mode": {
    "name": "ipython",
    "version": 3
   },
   "file_extension": ".py",
   "mimetype": "text/x-python",
   "name": "python",
   "nbconvert_exporter": "python",
   "pygments_lexer": "ipython3",
   "version": "3.8.16"
  }
 },
 "nbformat": 4,
 "nbformat_minor": 5
}
